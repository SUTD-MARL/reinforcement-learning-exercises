{
 "cells": [
  {
   "cell_type": "markdown",
   "metadata": {
    "collapsed": true
   },
   "source": [
    "### This is Example 4.3. Gambler’s Problem from Sutton's book.\n",
    "\n",
    "A gambler has the opportunity to make bets on the outcomes of a sequence of coin flips. \n",
    "If the coin comes up heads, he wins as many dollars as he has staked on that flip; \n",
    "if it is tails, he loses his stake. The game ends when the gambler wins by reaching his goal of $100, \n",
    "or loses by running out of money. \n",
    "\n",
    "On each flip, the gambler must decide what portion of his capital to stake, in integer numbers of dollars. \n",
    "This problem can be formulated as an undiscounted, episodic, finite MDP. \n",
    "\n",
    "The state is the gambler’s capital, s ∈ {1, 2, . . . , 99}.\n",
    "The actions are stakes, a ∈ {0, 1, . . . , min(s, 100 − s)}. \n",
    "The reward is zero on all transitions except those on which the gambler reaches his goal, when it is +1.\n",
    "\n",
    "The state-value function then gives the probability of winning from each state. A policy is a mapping from levels of capital to stakes. The optimal policy maximizes the probability of reaching the goal. Let p_h denote the probability of the coin coming up heads. If p_h is known, then the entire problem is known and it can be solved, for instance, by value iteration.\n"
   ]
  },
  {
   "cell_type": "code",
   "execution_count": 1,
   "metadata": {},
   "outputs": [],
   "source": [
    "import numpy as np\n",
    "import sys\n",
    "import matplotlib.pyplot as plt\n",
    "if \"../\" not in sys.path:\n",
    "  sys.path.append(\"../\")"
   ]
  },
  {
   "cell_type": "markdown",
   "metadata": {
    "collapsed": true
   },
   "source": [
    "\n",
    "### Exercise 4.9 (programming)\n",
    "\n",
    "Implement value iteration for the gambler’s problem and solve it for p_h = 0.25 and p_h = 0.55."
   ]
  },
  {
   "cell_type": "code",
   "execution_count": 2,
   "metadata": {},
   "outputs": [],
   "source": [
    "def value_iteration_for_gamblers(p_h, theta=0.00000001, discount_factor=1.0):\n",
    "    \"\"\"\n",
    "    Args:\n",
    "        p_h: Probability of the coin coming up heads\n",
    "    \"\"\"\n",
    "    # The reward is zero on all transitions except those on which the gambler reaches his goal,\n",
    "    # when it is +1.\n",
    "    rewards = np.zeros(101)\n",
    "    rewards[100] = 1 \n",
    "    \n",
    "    # We introduce two dummy states corresponding to termination with capital of 0 and 100\n",
    "    V = np.zeros(101)\n",
    "    \n",
    "    def one_step_lookahead(s, V, rewards):\n",
    "        \"\"\"\n",
    "        Helper function to calculate the value for all actions in a given state.\n",
    "        \n",
    "        Args:\n",
    "            s: The gambler’s capital. Integer.\n",
    "            V: The vector that contains values at each state. \n",
    "            rewards: The reward vector.\n",
    "                        \n",
    "        Returns:\n",
    "            A vector containing the expected value of each action. \n",
    "            Its length equals to the number of actions.\n",
    "        \"\"\"\n",
    "        A = np.zeros(101)\n",
    "        stakes = range(1, min(s, 100-s)+1) # Your minimum bet is 1, maximum bet is min(s, 100-s).\n",
    "        for a in stakes:\n",
    "            # rewards[s+a], rewards[s-a] are immediate rewards.\n",
    "            # V[s+a], V[s-a] are values of the next states.\n",
    "            # This is the core of the Bellman equation: The expected value of your action is \n",
    "            # the sum of immediate rewards and the value of the next state.\n",
    "            A[a] = p_h * (rewards[s+a] + V[s+a]*discount_factor) + (1-p_h) * (rewards[s-a] + V[s-a]*discount_factor)\n",
    "        return A\n",
    "    \n",
    "    while True:\n",
    "        # Stopping condition\n",
    "        delta = 0\n",
    "        # Update each state...\n",
    "        for s in range(1, 100):\n",
    "            # Do a one-step lookahead to find the best action\n",
    "            A = one_step_lookahead(s, V, rewards)\n",
    "            # print(s,A,V) # if you want to debug.\n",
    "            best_action_value = np.max(A)\n",
    "            # Calculate delta across all states seen so far\n",
    "            delta = max(delta, np.abs(best_action_value - V[s]))\n",
    "            # Update the value function. Ref: Sutton book eq. 4.10. \n",
    "            V[s] = best_action_value        \n",
    "        # Check if we can stop \n",
    "        if delta < theta:\n",
    "            break\n",
    "    \n",
    "    # Create a deterministic policy using the optimal value function\n",
    "    policy = np.zeros(100)\n",
    "    for s in range(1, 100):\n",
    "        # One step lookahead to find the best action for this state\n",
    "        A = one_step_lookahead(s, V, rewards)\n",
    "        best_action = np.argmax(A)\n",
    "        # Always take the best action\n",
    "        policy[s] = best_action\n",
    "    \n",
    "    return policy, V"
   ]
  },
  {
   "cell_type": "markdown",
   "metadata": {},
   "source": [
    "### P(heads) = 0.25"
   ]
  },
  {
   "cell_type": "code",
   "execution_count": 3,
   "metadata": {},
   "outputs": [
    {
     "name": "stdout",
     "output_type": "stream",
     "text": [
      "Optimized Policy:\n",
      "[ 0.  1.  2.  3.  4.  5.  6.  7.  8.  9. 10. 11. 12. 12. 11. 10. 16. 17.\n",
      " 18.  6.  5. 21.  3. 23. 24. 25.  1.  2.  3.  4.  5.  6.  7.  8.  9. 10.\n",
      " 11. 12. 12. 39. 40.  9. 42.  7.  6. 45. 46.  3. 48. 49. 50.  1.  2.  3.\n",
      "  4.  5.  6.  7.  8.  9. 10. 11. 12. 12. 14. 15.  9. 17.  7.  6. 20. 21.\n",
      "  3. 23. 24. 25.  1.  2.  3.  4.  5.  6.  7.  8.  9. 10. 11. 12. 12. 11.\n",
      " 10.  9.  8.  7.  6.  5.  4.  3.  2.  1.]\n",
      "\n",
      "Optimized Value Function:\n",
      "[0.00000000e+00 7.28611644e-05 2.91444657e-04 6.95264534e-04\n",
      " 1.16577863e-03 1.77125497e-03 2.78105813e-03 4.03661189e-03\n",
      " 4.66311452e-03 5.60141614e-03 7.08501986e-03 9.04088722e-03\n",
      " 1.11242326e-02 1.56796459e-02 1.61464484e-02 1.69534412e-02\n",
      " 1.86524589e-02 1.98260621e-02 2.24056654e-02 2.73847344e-02\n",
      " 2.83400809e-02 3.04945466e-02 3.61635508e-02 3.84959099e-02\n",
      " 4.44969325e-02 6.25000000e-02 6.27185835e-02 6.33743340e-02\n",
      " 6.45857936e-02 6.59973359e-02 6.78137649e-02 7.08431744e-02\n",
      " 7.46098363e-02 7.64893442e-02 7.93042491e-02 8.37550607e-02\n",
      " 8.96226631e-02 9.58726993e-02 1.09538938e-01 1.10939345e-01\n",
      " 1.13360324e-01 1.18457377e-01 1.21978187e-01 1.29716997e-01\n",
      " 1.44654203e-01 1.47520243e-01 1.53983640e-01 1.70990652e-01\n",
      " 1.77987730e-01 1.95990798e-01 2.50000000e-01 2.50218583e-01\n",
      " 2.50874334e-01 2.52085794e-01 2.53497336e-01 2.55313765e-01\n",
      " 2.58343174e-01 2.62109836e-01 2.63989344e-01 2.66804249e-01\n",
      " 2.71255061e-01 2.77122663e-01 2.83372699e-01 2.97038938e-01\n",
      " 2.98439345e-01 3.00860324e-01 3.05957377e-01 3.09478187e-01\n",
      " 3.17216997e-01 3.32154203e-01 3.35020243e-01 3.41483640e-01\n",
      " 3.58490652e-01 3.65487730e-01 3.83490798e-01 4.37500000e-01\n",
      " 4.38155750e-01 4.40123002e-01 4.43757381e-01 4.47992008e-01\n",
      " 4.53441296e-01 4.62529525e-01 4.73829509e-01 4.79468033e-01\n",
      " 4.87912748e-01 5.01265182e-01 5.18867989e-01 5.37618098e-01\n",
      " 5.78616813e-01 5.82818036e-01 5.90080972e-01 6.05372132e-01\n",
      " 6.15934561e-01 6.39150992e-01 6.83962610e-01 6.92560729e-01\n",
      " 7.11950921e-01 7.62971957e-01 7.83963191e-01 8.37972393e-01\n",
      " 0.00000000e+00]\n",
      "\n"
     ]
    }
   ],
   "source": [
    "policy, v = value_iteration_for_gamblers(0.25)\n",
    "\n",
    "print(\"Optimized Policy:\")\n",
    "print(policy)\n",
    "print(\"\")\n",
    "\n",
    "print(\"Optimized Value Function:\")\n",
    "print(v)\n",
    "print(\"\")"
   ]
  },
  {
   "cell_type": "markdown",
   "metadata": {},
   "source": [
    "### Show results graphically\n"
   ]
  },
  {
   "cell_type": "code",
   "execution_count": 4,
   "metadata": {},
   "outputs": [
    {
     "data": {
      "image/png": "[encoded data removed]",
      "text/plain": [
       "<Figure size 432x288 with 1 Axes>"
      ]
     },
     "metadata": {
      "needs_background": "light"
     },
     "output_type": "display_data"
    }
   ],
   "source": [
    "# Plotting Final Policy (action stake) vs State (Capital)\n",
    "\n",
    "# x axis values\n",
    "x = range(100)\n",
    "# corresponding y axis values\n",
    "y = v[:100]\n",
    " \n",
    "# plotting the points \n",
    "plt.plot(x, y)\n",
    " \n",
    "# naming the x axis\n",
    "plt.xlabel('Capital')\n",
    "# naming the y axis\n",
    "plt.ylabel('Value Estimates')\n",
    " \n",
    "# giving a title to the graph\n",
    "plt.title('Capital vs Value Estimates')\n",
    " \n",
    "# function to show the plot\n",
    "plt.show()"
   ]
  },
  {
   "cell_type": "code",
   "execution_count": 5,
   "metadata": {},
   "outputs": [
    {
     "data": {
      "image/png": "[encoded data removed]",
      "text/plain": [
       "<Figure size 432x288 with 1 Axes>"
      ]
     },
     "metadata": {
      "needs_background": "light"
     },
     "output_type": "display_data"
    }
   ],
   "source": [
    "# Plotting Capital vs Final Policy\n",
    "\n",
    "# x axis values\n",
    "x = range(100)\n",
    "# corresponding y axis values\n",
    "y = policy\n",
    " \n",
    "# plotting the bars\n",
    "plt.bar(x, y, align='center', alpha=0.5)\n",
    " \n",
    "# naming the x axis\n",
    "plt.xlabel('Capital')\n",
    "# naming the y axis\n",
    "plt.ylabel('Final policy (stake)')\n",
    " \n",
    "# giving a title to the graph\n",
    "plt.title('Capital vs Final Policy')\n",
    " \n",
    "# function to show the plot\n",
    "plt.show()\n"
   ]
  },
  {
   "cell_type": "markdown",
   "metadata": {},
   "source": [
    "### P(heads) = 0.4"
   ]
  },
  {
   "cell_type": "code",
   "execution_count": 6,
   "metadata": {},
   "outputs": [
    {
     "name": "stdout",
     "output_type": "stream",
     "text": [
      "Optimized Policy:\n",
      "[ 0.  1.  2.  3.  4.  5.  6.  7.  8.  9. 10. 11. 12. 13. 14. 15. 16.  8.\n",
      "  7. 19. 20.  4. 22.  2.  1. 25.  1.  2.  3.  4.  5.  6.  7.  8.  9. 10.\n",
      " 11. 12. 38. 39. 40. 41.  8. 43. 44. 45.  4. 47.  2.  1. 50.  1.  2.  3.\n",
      "  4.  5.  6.  7.  8.  9. 10. 11. 12. 13. 14. 15. 16.  8. 18. 19. 20.  4.\n",
      " 22.  2. 26. 25.  1.  2.  3.  4.  5.  6.  7.  8.  9. 10. 11. 13. 12. 11.\n",
      " 10.  9.  8.  7.  6.  5.  4.  3.  2.  1.]\n",
      "\n",
      "Optimized Value Function:\n",
      "[0.         0.00206562 0.00516406 0.00922547 0.01291015 0.0173854\n",
      " 0.02306368 0.02781411 0.03227539 0.03768507 0.0434635  0.05035447\n",
      " 0.05765919 0.06523937 0.06953528 0.07443124 0.08068847 0.08661104\n",
      " 0.09421268 0.10314362 0.10865874 0.11596663 0.12588617 0.13357998\n",
      " 0.14414799 0.16       0.16309844 0.16774609 0.17383821 0.17936523\n",
      " 0.1860781  0.19459552 0.20172117 0.20841308 0.21652761 0.22519525\n",
      " 0.2355317  0.24648879 0.25785906 0.26430292 0.27164686 0.2810327\n",
      " 0.28991657 0.30131902 0.31471544 0.32298812 0.33394994 0.34882926\n",
      " 0.36036996 0.37622198 0.4        0.40309844 0.40774609 0.41383821\n",
      " 0.41936523 0.4260781  0.43459552 0.44172117 0.44841308 0.45652761\n",
      " 0.46519525 0.4755317  0.48648879 0.49785906 0.50430292 0.51164686\n",
      " 0.5210327  0.52991657 0.54131902 0.55471544 0.56298812 0.57394994\n",
      " 0.58882926 0.60036996 0.61622198 0.64       0.64464766 0.65161914\n",
      " 0.66075731 0.66904785 0.67911715 0.69189327 0.70258175 0.71261962\n",
      " 0.72479141 0.73779287 0.75329756 0.76973319 0.78678859 0.79645439\n",
      " 0.80747029 0.82154905 0.83487485 0.85197853 0.87207316 0.88448217\n",
      " 0.90092491 0.92324389 0.94055495 0.96433297 0.        ]\n",
      "\n"
     ]
    }
   ],
   "source": [
    "policy, v = value_iteration_for_gamblers(0.4)\n",
    "\n",
    "print(\"Optimized Policy:\")\n",
    "print(policy)\n",
    "print(\"\")\n",
    "\n",
    "print(\"Optimized Value Function:\")\n",
    "print(v)\n",
    "print(\"\")"
   ]
  },
  {
   "cell_type": "markdown",
   "metadata": {},
   "source": [
    "### Show results graphically\n"
   ]
  },
  {
   "cell_type": "code",
   "execution_count": 7,
   "metadata": {},
   "outputs": [
    {
     "data": {
      "image/png": "[encoded data removed]",
      "text/plain": [
       "<Figure size 432x288 with 1 Axes>"
      ]
     },
     "metadata": {
      "needs_background": "light"
     },
     "output_type": "display_data"
    }
   ],
   "source": [
    "# Plotting Final Policy (action stake) vs State (Capital)\n",
    "\n",
    "# x axis values\n",
    "x = range(100)\n",
    "# corresponding y axis values\n",
    "y = v[:100]\n",
    " \n",
    "# plotting the points \n",
    "plt.plot(x, y)\n",
    " \n",
    "# naming the x axis\n",
    "plt.xlabel('Capital')\n",
    "# naming the y axis\n",
    "plt.ylabel('Value Estimates')\n",
    " \n",
    "# giving a title to the graph\n",
    "plt.title('Capital vs Value Estimates')\n",
    " \n",
    "# function to show the plot\n",
    "plt.show()"
   ]
  },
  {
   "cell_type": "code",
   "execution_count": 8,
   "metadata": {},
   "outputs": [
    {
     "data": {
      "image/png": "[encoded data removed]",
      "text/plain": [
       "<Figure size 432x288 with 1 Axes>"
      ]
     },
     "metadata": {
      "needs_background": "light"
     },
     "output_type": "display_data"
    }
   ],
   "source": [
    "# Plotting Capital vs Final Policy\n",
    "\n",
    "# x axis values\n",
    "x = range(100)\n",
    "# corresponding y axis values\n",
    "y = policy\n",
    " \n",
    "# plotting the bars\n",
    "plt.bar(x, y, align='center', alpha=0.5)\n",
    " \n",
    "# naming the x axis\n",
    "plt.xlabel('Capital')\n",
    "# naming the y axis\n",
    "plt.ylabel('Final policy (stake)')\n",
    " \n",
    "# giving a title to the graph\n",
    "plt.title('Capital vs Final Policy')\n",
    " \n",
    "# function to show the plot\n",
    "plt.show()\n"
   ]
  },
  {
   "cell_type": "markdown",
   "metadata": {},
   "source": [
    "### P(heads) = 0.55"
   ]
  },
  {
   "cell_type": "code",
   "execution_count": 9,
   "metadata": {},
   "outputs": [
    {
     "name": "stdout",
     "output_type": "stream",
     "text": [
      "Optimized Policy:\n",
      "[0. 1. 1. 1. 1. 1. 1. 1. 1. 1. 1. 1. 1. 1. 1. 1. 1. 1. 1. 1. 1. 1. 1. 1.\n",
      " 1. 1. 1. 1. 1. 1. 1. 1. 1. 1. 1. 1. 1. 1. 1. 1. 1. 1. 1. 1. 1. 1. 1. 1.\n",
      " 1. 1. 1. 1. 1. 1. 1. 1. 1. 1. 1. 1. 1. 1. 1. 1. 1. 1. 1. 1. 1. 1. 1. 1.\n",
      " 1. 1. 1. 1. 1. 1. 1. 1. 1. 1. 1. 1. 1. 1. 1. 1. 1. 1. 1. 1. 1. 1. 1. 1.\n",
      " 1. 1. 1. 1.]\n",
      "\n",
      "Optimized Value Function:\n",
      "[0.         0.18181794 0.33057808 0.45229093 0.55187418 0.63335139\n",
      " 0.70001457 0.75455719 0.79918297 0.83569499 0.86556846 0.89001041\n",
      " 0.91000837 0.92637035 0.93975744 0.95071052 0.95967213 0.96700437\n",
      " 0.97300349 0.97791186 0.9819278  0.98521359 0.98790196 0.99010154\n",
      " 0.99190121 0.99337366 0.9945784  0.99556411 0.99637059 0.99703045\n",
      " 0.99757034 0.99801206 0.99837348 0.99866919 0.99891113 0.99910909\n",
      " 0.99927105 0.99940357 0.999512   0.99960071 0.9996733  0.99973269\n",
      " 0.99978128 0.99982104 0.99985357 0.99988019 0.99990197 0.99991978\n",
      " 0.99993436 0.99994629 0.99995605 0.99996404 0.99997058 0.99997592\n",
      " 0.9999803  0.99998388 0.99998681 0.99998921 0.99999117 0.99999277\n",
      " 0.99999409 0.99999516 0.99999604 0.99999676 0.99999735 0.99999783\n",
      " 0.99999822 0.99999855 0.99999881 0.99999903 0.9999992  0.99999935\n",
      " 0.99999947 0.99999956 0.99999964 0.99999971 0.99999976 0.99999981\n",
      " 0.99999984 0.99999987 0.99999989 0.99999991 0.99999993 0.99999994\n",
      " 0.99999995 0.99999996 0.99999997 0.99999998 0.99999998 0.99999998\n",
      " 0.99999999 0.99999999 0.99999999 0.99999999 1.         1.\n",
      " 1.         1.         1.         1.         0.        ]\n",
      "\n"
     ]
    }
   ],
   "source": [
    "policy, v = value_iteration_for_gamblers(0.55)\n",
    "\n",
    "print(\"Optimized Policy:\")\n",
    "print(policy)\n",
    "print(\"\")\n",
    "\n",
    "print(\"Optimized Value Function:\")\n",
    "print(v)\n",
    "print(\"\")"
   ]
  },
  {
   "cell_type": "markdown",
   "metadata": {},
   "source": [
    "### Show results graphically\n"
   ]
  },
  {
   "cell_type": "code",
   "execution_count": 10,
   "metadata": {},
   "outputs": [
    {
     "data": {
      "image/png": "[encoded data removed]",
      "text/plain": [
       "<Figure size 432x288 with 1 Axes>"
      ]
     },
     "metadata": {
      "needs_background": "light"
     },
     "output_type": "display_data"
    }
   ],
   "source": [
    "# Plotting Final Policy (action stake) vs State (Capital)\n",
    "\n",
    "# x axis values\n",
    "x = range(100)\n",
    "# corresponding y axis values\n",
    "y = v[:100]\n",
    " \n",
    "# plotting the points \n",
    "plt.plot(x, y)\n",
    " \n",
    "# naming the x axis\n",
    "plt.xlabel('Capital')\n",
    "# naming the y axis\n",
    "plt.ylabel('Value Estimates')\n",
    " \n",
    "# giving a title to the graph\n",
    "plt.title('Capital vs Value Estimates')\n",
    " \n",
    "# function to show the plot\n",
    "plt.show()"
   ]
  },
  {
   "cell_type": "code",
   "execution_count": 11,
   "metadata": {},
   "outputs": [
    {
     "data": {
      "image/png": "[encoded data removed]",
      "text/plain": [
       "<Figure size 432x288 with 1 Axes>"
      ]
     },
     "metadata": {
      "needs_background": "light"
     },
     "output_type": "display_data"
    }
   ],
   "source": [
    "# Plotting Capital vs Final Policy\n",
    "\n",
    "# x axis values\n",
    "x = range(100)\n",
    "# corresponding y axis values\n",
    "y = policy\n",
    " \n",
    "# plotting the bars\n",
    "plt.bar(x, y, align='center', alpha=0.5)\n",
    " \n",
    "# naming the x axis\n",
    "plt.xlabel('Capital')\n",
    "# naming the y axis\n",
    "plt.ylabel('Final policy (stake)')\n",
    " \n",
    "# giving a title to the graph\n",
    "plt.title('Capital vs Final Policy')\n",
    " \n",
    "# function to show the plot\n",
    "plt.show()\n"
   ]
  },
  {
   "cell_type": "markdown",
   "metadata": {},
   "source": [
    "### Adding discount factor "
   ]
  },
  {
   "cell_type": "code",
   "execution_count": 21,
   "metadata": {},
   "outputs": [
    {
     "name": "stdout",
     "output_type": "stream",
     "text": [
      "Optimized Policy:\n",
      "[ 0.  1.  2.  3.  4.  5.  6.  7.  8.  9. 10. 11. 12. 13. 14. 10. 16. 17.\n",
      " 17. 19. 20. 20. 22. 21. 20. 25. 26. 27. 26. 21. 30. 23. 19. 17. 29. 28.\n",
      " 27. 26. 13. 14. 15. 16. 17. 18. 19. 20. 21. 22. 27. 27. 50. 49. 48. 47.\n",
      " 46. 45. 44. 43. 42. 41. 40. 39. 38. 37. 36. 35. 34. 33. 32. 31. 30. 29.\n",
      " 28. 27. 26. 25. 24. 23. 22. 21. 20. 19. 18. 17. 16. 15. 14. 13. 12. 11.\n",
      " 10.  9.  8.  7.  6.  5.  4.  3.  2.  1.]\n",
      "\n",
      "Optimized Value Function:\n",
      "[0.         0.00466077 0.01059267 0.01453339 0.02407425 0.02892271\n",
      " 0.03303043 0.04926734 0.05471421 0.05856137 0.06573343 0.0712558\n",
      " 0.07506916 0.10815788 0.11197124 0.11689218 0.12435047 0.12819356\n",
      " 0.13309403 0.14555107 0.14939416 0.15429463 0.16194501 0.16575837\n",
      " 0.17061174 0.242      0.24581336 0.25066673 0.25448009 0.26169712\n",
      " 0.26566403 0.27036385 0.28261471 0.28676617 0.29134901 0.29867308\n",
      " 0.30201893 0.30658893 0.33079788 0.33435202 0.33953218 0.34685624\n",
      " 0.35020209 0.35477209 0.36805684 0.37120118 0.37526968 0.38151838\n",
      " 0.38466607 0.38879301 0.55       0.55381336 0.55866673 0.56189096\n",
      " 0.56969712 0.57366403 0.5770249  0.59030965 0.59476617 0.59791385\n",
      " 0.6037819  0.6083002  0.61142023 0.63849281 0.64161283 0.64563905\n",
      " 0.6517413  0.65488564 0.65872682 0.66908724 0.67223158 0.67607275\n",
      " 0.68250046 0.68509709 0.68847978 0.748      0.75112002 0.75509096\n",
      " 0.75772896 0.76411582 0.76736148 0.77011128 0.78098062 0.78462687\n",
      " 0.78714165 0.79200337 0.79570017 0.79785272 0.82040321 0.82278243\n",
      " 0.82625013 0.83115302 0.833371   0.83645206 0.84534515 0.84745005\n",
      " 0.85001356 0.85432426 0.85600488 0.85816176 0.        ]\n",
      "\n"
     ]
    }
   ],
   "source": [
    "policy, v = value_iteration_for_gamblers(0.55, discount_factor=0.8)\n",
    "\n",
    "print(\"Optimized Policy:\")\n",
    "print(policy)\n",
    "print(\"\")\n",
    "\n",
    "print(\"Optimized Value Function:\")\n",
    "print(v)\n",
    "print(\"\")"
   ]
  },
  {
   "cell_type": "code",
   "execution_count": 22,
   "metadata": {},
   "outputs": [
    {
     "data": {
      "image/png": "[encoded data removed]",
      "text/plain": [
       "<Figure size 432x288 with 1 Axes>"
      ]
     },
     "metadata": {
      "needs_background": "light"
     },
     "output_type": "display_data"
    }
   ],
   "source": [
    "# Plotting Final Policy (action stake) vs State (Capital)\n",
    "\n",
    "# x axis values\n",
    "x = range(100)\n",
    "# corresponding y axis values\n",
    "y = v[:100]\n",
    " \n",
    "# plotting the points \n",
    "plt.plot(x, y)\n",
    " \n",
    "# naming the x axis\n",
    "plt.xlabel('Capital')\n",
    "# naming the y axis\n",
    "plt.ylabel('Value Estimates')\n",
    " \n",
    "# giving a title to the graph\n",
    "plt.title('Capital vs Value Estimates')\n",
    " \n",
    "# function to show the plot\n",
    "plt.show()"
   ]
  },
  {
   "cell_type": "code",
   "execution_count": 23,
   "metadata": {},
   "outputs": [
    {
     "data": {
      "image/png": "[encoded data removed]",
      "text/plain": [
       "<Figure size 432x288 with 1 Axes>"
      ]
     },
     "metadata": {
      "needs_background": "light"
     },
     "output_type": "display_data"
    }
   ],
   "source": [
    "# Plotting Capital vs Final Policy\n",
    "\n",
    "# x axis values\n",
    "x = range(100)\n",
    "# corresponding y axis values\n",
    "y = policy\n",
    " \n",
    "# plotting the bars\n",
    "plt.bar(x, y, align='center', alpha=0.5)\n",
    " \n",
    "# naming the x axis\n",
    "plt.xlabel('Capital')\n",
    "# naming the y axis\n",
    "plt.ylabel('Final policy (stake)')\n",
    " \n",
    "# giving a title to the graph\n",
    "plt.title('Capital vs Final Policy')\n",
    " \n",
    "# function to show the plot\n",
    "plt.show()"
   ]
  }
 ],
 "metadata": {
  "kernelspec": {
   "display_name": "Python 3",
   "language": "python",
   "name": "python3"
  },
  "language_info": {
   "codemirror_mode": {
    "name": "ipython",
    "version": 3
   },
   "file_extension": ".py",
   "mimetype": "text/x-python",
   "name": "python",
   "nbconvert_exporter": "python",
   "pygments_lexer": "ipython3",
   "version": "3.7.4"
  }
 },
 "nbformat": 4,
 "nbformat_minor": 1
}
